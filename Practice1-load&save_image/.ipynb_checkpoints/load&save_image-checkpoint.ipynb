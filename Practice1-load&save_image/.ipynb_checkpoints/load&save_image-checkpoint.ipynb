{
 "cells": [
  {
   "cell_type": "markdown",
   "id": "9768b1b9-2e7f-4a6f-ae32-cf07065ef87b",
   "metadata": {
    "tags": []
   },
   "source": [
    "# Practice 1 - Load and Save Image with OpenCV\n",
    "* ## Cut-off date\n",
    "#### 2022/3/9  00:00\n",
    "\n",
    "* ## Score Rule\n",
    "Each practice has ***totally 20 points***. You have to complete objectives to get points.<br>\n",
    "<span style=\"color:red\">***Primary objective***</span> : basic objective you must complete. <br>\n",
    "<span style=\"color:orange\">***Bonus objective***</span> : difficulty objective for other bonus points.<br>\n",
    "#### <ins>This practice has 4 <span style=\"color:red\">***Primary objective***</span> and 1 <span style=\"color:orange\">***Bonus objective***</span></ins><br>\n",
    "---\n",
    "# Before we start\n",
    "\n",
    "* ## OpenCV Offical Online Document\n",
    "To learn opencv or other librarys, you'll often seek for function using on official online document. You can also using Google to find the answers, but ***the official online document is most correct and comprehensive.***<br>\n",
    "[Opencv Offical Online Document](https://docs.opencv.org/4.5.4/index.html)\n",
    "\n",
    "\n",
    "* ## Package Installation\n",
    "We need to install opencv in our computer. Since we have installed Anaconda yet, we just need to use pip in CMD. Like the scripts below:<br><br>\n",
    "```bash\n",
    "pip install opencv-python\n",
    "```\n",
    "<br>Or you can just run the block below to install. "
   ]
  },
  {
   "cell_type": "code",
   "execution_count": null,
   "id": "557cb0a4-916d-4e25-a4bf-0e0ed087f871",
   "metadata": {},
   "outputs": [],
   "source": [
    "!pip install opencv-python"
   ]
  },
  {
   "cell_type": "markdown",
   "id": "a6642946-b20d-47fa-bdfb-c7b1b9d6ab9a",
   "metadata": {},
   "source": [
    "---\n",
    "# 1 Import Library\n",
    "Import some library we need in this practice."
   ]
  },
  {
   "cell_type": "code",
   "execution_count": null,
   "id": "53d78e3f-8048-4a85-a2a9-c4b0208e153f",
   "metadata": {},
   "outputs": [],
   "source": [
    "import numpy as np              # Image data structure\n",
    "import cv2 as cv                # opencv, of course\n",
    "import matplotlib.pyplot as plt # to show and save image"
   ]
  },
  {
   "cell_type": "markdown",
   "id": "512e6351-421c-4612-bb10-c6b96c80db92",
   "metadata": {},
   "source": [
    "# 2 Load Image and Show Image\n",
    "Example below show how to load image using opencv and show image using matplotlib, run the block and see what will happend."
   ]
  },
  {
   "cell_type": "code",
   "execution_count": null,
   "id": "58c4fe5b-9036-4b56-9b02-39e50e61d5ae",
   "metadata": {},
   "outputs": [],
   "source": [
    "# Load image\n",
    "IMG_PATH=\"lena_gray_256.tif\"\n",
    "img_lena_gray=cv.imread(IMG_PATH)\n",
    "\n",
    "# Show image\n",
    "plt.imshow(img_lena_gray)\n",
    "plt.show()"
   ]
  },
  {
   "cell_type": "markdown",
   "id": "4bb949f6-5b3d-464c-a71d-f5bfaa6c0600",
   "metadata": {},
   "source": [
    "Now is your turn to load the color vision of Lena image: **\"lena_color_256.tif\"** to the ***img_lena_color***:"
   ]
  },
  {
   "cell_type": "code",
   "execution_count": null,
   "id": "0f036d86-3c19-4909-aff3-24ad360b0419",
   "metadata": {},
   "outputs": [],
   "source": [
    "img_lena_color = None  # load image to this object\n",
    "\n",
    "## Put your scripts below ##\n",
    "\n",
    "## Put your scripts above ##\n",
    "\n",
    "# Show image\n",
    "plt.imshow(img_lena_color)\n",
    "plt.show()"
   ]
  },
  {
   "cell_type": "markdown",
   "id": "8c3ea045-05b3-4da9-86fd-1f8173c1bc16",
   "metadata": {},
   "source": [
    "You may see the color is bluish. That's because opencv use **BGR** color format, but matplotlib use **RGB** format. To fix this problem, check the link below to see how to change image format from BGR to RGB, and show the image color correctly.<br>\n",
    "[Opencv Document - cvtColor](https://docs.opencv.org/4.5.4/d8/d01/group__imgproc__color__conversions.html#ga397ae87e1288a81d2363b61574eb8cab)<br>\n",
    "<span style=\"color:red\">***Primary objective( 1/4, 4 points):***</span> You need to modify your scripts to load and show correct color in this practice.<br>"
   ]
  },
  {
   "cell_type": "markdown",
   "id": "7f18bbf7-6520-4970-b4fd-c6d6fcd37e87",
   "metadata": {},
   "source": [
    "# 3 Draw on Image\n",
    "Opencv have some function to draw on image, like circle, line and rectangle. Run the 3 exqamples below and see what happend:"
   ]
  },
  {
   "cell_type": "markdown",
   "id": "537158e9-0133-49d4-bb7e-b93d38625d63",
   "metadata": {},
   "source": [
    "* ## Draw Circle\n",
    "[Opencv Document - circle](https://docs.opencv.org/4.5.4/d6/d6e/group__imgproc__draw.html#gaf10604b069374903dbd0f0488cb43670)<br>"
   ]
  },
  {
   "cell_type": "code",
   "execution_count": null,
   "id": "76dc0d1f-2437-4539-af3c-c4cc6320852b",
   "metadata": {},
   "outputs": [],
   "source": [
    "# Copy image\n",
    "img_lena_gray_with_circle = img_lena_gray.copy()\n",
    "\n",
    "center = (64, 64)    # XY, origin from top-left of image.\n",
    "radius = 20          # pixel\n",
    "color = (0, 0, 255)  # RGB\n",
    "line_width = -1      # circle line width, -1 will fill circle inside\n",
    "\n",
    "# Draw a fill blue circle\n",
    "cv.circle(img_lena_gray_with_circle, center, radius, color, line_width)\n",
    "\n",
    "# Draw a hollow red circle\n",
    "center = (64, 128)\n",
    "color = (255, 0, 0)\n",
    "line_width = 2\n",
    "cv.circle(img_lena_gray_with_circle, center, radius, color, line_width)\n",
    "\n",
    "# Show image\n",
    "plt.imshow(img_lena_gray_with_circle)\n",
    "plt.show()"
   ]
  },
  {
   "cell_type": "markdown",
   "id": "3d32ba7c-1444-46cd-b0f8-1097d7e6cfa2",
   "metadata": {},
   "source": [
    "* ## Draw Line\n",
    "[Opencv Document - line](https://docs.opencv.org/4.5.4/d6/d6e/group__imgproc__draw.html#ga7078a9fae8c7e7d13d24dac2520ae4a2)"
   ]
  },
  {
   "cell_type": "code",
   "execution_count": null,
   "id": "e3b357c0-18d4-40e2-bb9c-e01cd86f069d",
   "metadata": {},
   "outputs": [],
   "source": [
    "# Copy image\n",
    "img_lena_gray_with_line = img_lena_gray.copy()\n",
    "\n",
    "start = (0, 0)\n",
    "end = (255,255)\n",
    "color = (0, 0, 255)\n",
    "line_width = 3\n",
    "\n",
    "# Draw a blue line\n",
    "cv.line(img_lena_gray_with_line, start, end, color, line_width)\n",
    "\n",
    "# Show image\n",
    "plt.imshow(img_lena_gray_with_line)\n",
    "plt.show()"
   ]
  },
  {
   "cell_type": "markdown",
   "id": "9877c420-0e23-4a6e-91cc-bd432cc83fb3",
   "metadata": {},
   "source": [
    "* ## Draw Rectangle\n",
    "[Opencv Document - rectangle](https://docs.opencv.org/4.5.4/d6/d6e/group__imgproc__draw.html#ga7078a9fae8c7e7d13d24dac2520ae4a2)"
   ]
  },
  {
   "cell_type": "code",
   "execution_count": null,
   "id": "7b618415-3723-4621-b1af-603858d96784",
   "metadata": {},
   "outputs": [],
   "source": [
    "# Copy image\n",
    "img_lena_gray_with_rec = img_lena_gray.copy()\n",
    "\n",
    "p1 = (64, 32)   \n",
    "p2 = (128, 128)          \n",
    "color = (0, 255, 0)  \n",
    "line_width = 2     # rectangle line width, -1 will fill rectangle inside\n",
    "\n",
    "# Draw a fill green rectangle\n",
    "cv.rectangle(img_lena_gray_with_rec, p1, p2, color, line_width)\n",
    "\n",
    "# Show image\n",
    "plt.imshow(img_lena_gray_with_rec)\n",
    "plt.show()"
   ]
  },
  {
   "cell_type": "markdown",
   "id": "9508989b-12ac-4a02-bc15-1437c764d1c8",
   "metadata": {},
   "source": [
    "Feel free to try other value of function in the 3 examples above."
   ]
  },
  {
   "cell_type": "markdown",
   "id": "89c7d8ad-99eb-4ec1-a892-488997e84705",
   "metadata": {},
   "source": [
    "<span style=\"color:red\">***Primary objective(2/4, 4 points):***</span> Draw a blue glasses for lena below!<br>"
   ]
  },
  {
   "cell_type": "code",
   "execution_count": null,
   "id": "067288a5-95c2-4851-8efa-3dca31abf2ef",
   "metadata": {},
   "outputs": [],
   "source": [
    "# Copy image\n",
    "img_lena_color_with_glasses = img_lena_color.copy()\n",
    "\n",
    "## Put your scripts below ##\n",
    "\n",
    "## Put your scripts above ##\n",
    "\n",
    "# Show image\n",
    "plt.imshow(img_lena_color_with_glasses)\n",
    "plt.show()"
   ]
  },
  {
   "cell_type": "markdown",
   "id": "b69caef7-6fd4-438b-8bb8-da185feaa258",
   "metadata": {},
   "source": [
    "# 6. Text on Image\n",
    "To put some text on image, use putText function in opencv.<br>\n",
    "[Opencv Document - putText](https://docs.opencv.org/4.5.4/d6/d6e/group__imgproc__draw.html#ga5126f47f883d730f633d74f07456c576)"
   ]
  },
  {
   "cell_type": "code",
   "execution_count": null,
   "id": "11e78ff8-94d8-4967-a4c2-b135fb5306f6",
   "metadata": {},
   "outputs": [],
   "source": [
    "# Copy image\n",
    "img_lena_gray_with_signature = img_lena_gray.copy()\n",
    "\n",
    "text = \"Lena\"\n",
    "pos = (100, 240)\n",
    "font_face = cv.FONT_HERSHEY_SIMPLEX\n",
    "font_size = 2\n",
    "color = (255, 0, 255)\n",
    "thickness = 2\n",
    "\n",
    "# Put text on image\n",
    "cv.putText(img_lena_gray_with_signature, text, pos, font_face, font_size, color, thickness)\n",
    "\n",
    "# Show image\n",
    "plt.imshow(img_lena_gray_with_signature)\n",
    "plt.show()"
   ]
  },
  {
   "cell_type": "markdown",
   "id": "f1df62c3-46a3-4131-b0ac-ceaf66674b03",
   "metadata": {},
   "source": [
    "<span style=\"color:red\">***Primary objective( 3/4, 4 points):***</span> write your student ID on the color Lena image.<br>"
   ]
  },
  {
   "cell_type": "code",
   "execution_count": null,
   "id": "e95da4ce-102d-47ef-b7d6-b04a8c5ba179",
   "metadata": {},
   "outputs": [],
   "source": [
    "# Copy image\n",
    "img_lena_color_with_ID = img_lena_color.copy()\n",
    "\n",
    "## Put your scripts below ##\n",
    "\n",
    "## Put your scripts above ##\n",
    "\n",
    "# Show image\n",
    "plt.imshow(img_lena_color_with_ID)\n",
    "plt.show()"
   ]
  },
  {
   "cell_type": "markdown",
   "id": "2be25c32-85be-48c6-ac82-a2424673a1ea",
   "metadata": {},
   "source": [
    "# 7. Save Image\n",
    "After we edit the image, we need to save image using **imwrite** funtion:<br>\n",
    "[Opencv Document - imwrite](https://docs.opencv.org/4.5.4/d4/da8/group__imgcodecs.html#gabbc7ef1aa2edfaa87772f1202d67e0ce)"
   ]
  },
  {
   "cell_type": "code",
   "execution_count": null,
   "id": "872d07cc-2785-432b-9903-c1cc6ab131d2",
   "metadata": {},
   "outputs": [],
   "source": [
    "file_name = \"img_lena_gray_with_circle.jpeg\"\n",
    "cv.imwrite(file_name, img_lena_gray_with_circle)\n",
    "\n",
    "file_name = \"img_lena_gray_with_line.jpeg\"\n",
    "cv.imwrite(file_name, img_lena_gray_with_line)\n",
    "\n",
    "file_name = \"img_lena_gray_with_rec.jpeg\"\n",
    "cv.imwrite(file_name, img_lena_gray_with_rec)"
   ]
  },
  {
   "cell_type": "markdown",
   "id": "77efacd6-93f6-4103-b758-0e499c5a4460",
   "metadata": {},
   "source": [
    "<span style=\"color:red\">***Primary objective( 4/4, 4 points):***</span> Save your image of Lena with glasses and Lena with your student ID. You need to submit the two image files.<br>"
   ]
  },
  {
   "cell_type": "code",
   "execution_count": null,
   "id": "a94bd55f-3ec5-411e-9548-e7ada8867edf",
   "metadata": {},
   "outputs": [],
   "source": [
    "## Put your scripts below ##\n",
    "\n",
    "## Put your scripts above ##"
   ]
  },
  {
   "cell_type": "markdown",
   "id": "0e7a30b5-b760-4c4b-a7a0-7d443cd9e91a",
   "metadata": {},
   "source": [
    "<span style=\"color:orange\">***Bonus objective( 1/1, 4 points):***</span> You may find out that the image color is not the same as we see in practice. Try to fix that and save the correct color image, and write down why the color is not the same.<br>"
   ]
  },
  {
   "cell_type": "markdown",
   "id": "4a0419dd-1d9c-43da-8fb3-a0cb4dae16da",
   "metadata": {},
   "source": [
    "Write down your explanation( double click to edit):\n"
   ]
  }
 ],
 "metadata": {
  "kernelspec": {
   "display_name": "Tensorflow 2.7 (Python 3.8)",
   "language": "python",
   "name": "tf"
  },
  "language_info": {
   "codemirror_mode": {
    "name": "ipython",
    "version": 3
   },
   "file_extension": ".py",
   "mimetype": "text/x-python",
   "name": "python",
   "nbconvert_exporter": "python",
   "pygments_lexer": "ipython3",
   "version": "3.8.12"
  }
 },
 "nbformat": 4,
 "nbformat_minor": 5
}
