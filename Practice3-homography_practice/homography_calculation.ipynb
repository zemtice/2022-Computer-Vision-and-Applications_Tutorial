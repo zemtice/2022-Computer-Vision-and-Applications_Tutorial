{
 "cells": [
  {
   "cell_type": "markdown",
   "id": "fa54f8c0-2872-4591-ad29-3201c9713c3c",
   "metadata": {},
   "source": [
    "# Practice 3 - Homography Practice\n",
    "* ## Cut-off date\n",
    "#### 2022/4/5  23:59\n",
    "\n",
    "* ## Score Rule\n",
    "Each practice has ***totally 20 points***. You have to complete objectives to get points.<br>\n",
    "<span style=\"color:red\">***Primary objective***</span> : basic objective you must complete. <br>\n",
    "<span style=\"color:orange\">***Bonus objective***</span> : difficulty objective for other bonus points.<br>\n",
    "#### <ins>This practice has 2 <span style=\"color:red\">***Primary objective***</span> and 1 <span style=\"color:orange\">***Bonus objective***</span>\n",
    "---"
   ]
  },
  {
   "cell_type": "markdown",
   "id": "5a8b0e00-99e1-416f-9e22-50b46edd0146",
   "metadata": {},
   "source": [
    "<img src=\"instruction_0.png\"/>\n",
    "\n",
    "This practice will demonstrate using opencv to calculate homography matrix (H).<br/>\n",
    "We can utilize H to impement the transformation of plane in 3D to 2D space.\n",
    "\n",
    "First, let's import the library we need"
   ]
  },
  {
   "cell_type": "code",
   "execution_count": null,
   "id": "cd66a560-e21c-45b4-836e-456555cff446",
   "metadata": {},
   "outputs": [],
   "source": [
    "import numpy as np\n",
    "import cv2 as cv\n",
    "import matplotlib.pyplot as plt"
   ]
  },
  {
   "cell_type": "markdown",
   "id": "462228ee-3cb9-4cb2-97e1-7232cf61b6d7",
   "metadata": {},
   "source": [
    "## Step 1: find out corresponding point pairs in two picture\n",
    "<img src=\"instruction_1.png\" />\n",
    "Find at least 4 point pairs in pictures, and get their position in 2D image space.<br/>\n",
    "For example, here we found 6 point pairs:<br/>\n",
    " <strong> \n",
    "A' ( 199.60, 274.24) → A (  95.01, 173.31)<br/>\n",
    "B' ( 304.04, 271.47) → B ( 277.68, 211.38)<br/>\n",
    "C' ( 355.47, 163.08) → C ( 420.29,  65.06)<br/>\n",
    "D' ( 481.54, 223.21) → D ( 658.87, 219.77)<br/>\n",
    "E' ( 437.51, 378.43) → E ( 486.45, 448.11)<br/>\n",
    "F' ( 482.60, 355.88) → F ( 580.77, 452.52)<br/>\n",
    "<strong/>"
   ]
  },
  {
   "cell_type": "markdown",
   "id": "0e1ddc71-f02b-4448-a723-6dd8fdf89f3d",
   "metadata": {},
   "source": [
    "## Step 2: find homography\n",
    "The example below show that using **findHomography** function and 4 point pairs (A, B, C, and D) to calculate H."
   ]
  },
  {
   "cell_type": "code",
   "execution_count": null,
   "id": "6428eac2-0c2d-4626-8380-7f99e5a10598",
   "metadata": {},
   "outputs": [],
   "source": [
    "srcPoints = np.array([[199.60, 274.24],\n",
    "                      [304.04, 271.47],\n",
    "                      [355.47, 163.08],\n",
    "                      [481.54, 223.21]])\n",
    "dstPoints = np.array([[ 95.01, 173.31],\n",
    "                      [277.68, 211.38],\n",
    "                      [420.29,  65.06],\n",
    "                      [658.87, 219.77]])\n",
    "\n",
    "H, _ = cv.findHomography(srcPoints, dstPoints)"
   ]
  },
  {
   "cell_type": "markdown",
   "id": "b713eeb8-7afc-4de7-99bb-9df0b6e10afb",
   "metadata": {},
   "source": [
    "## Step 3: using H to transform image back"
   ]
  },
  {
   "cell_type": "code",
   "execution_count": null,
   "id": "a02122b7-74c0-4b54-9120-7b5280923a37",
   "metadata": {},
   "outputs": [],
   "source": [
    "# load image\n",
    "cat_in_3d = cv.imread('cat_in_3d.png')\n",
    "cat_in_2d = cv.imread('cat_in_2d.png')\n",
    "\n",
    "# transform image using homography\n",
    "result = cv.warpPerspective(cg, H, (932, 538))\n",
    "\n",
    "# show the result\n",
    "fig = plt.figure(figsize=(10, 5))\n",
    "fig.add_subplot(121)\n",
    "plt.title(\"Real\")\n",
    "plt.axis('off')\n",
    "plt.imshow(cat)\n",
    "fig.add_subplot(122)\n",
    "plt.title(\"Homography result\")\n",
    "plt.axis('off')\n",
    "plt.imshow(result)"
   ]
  },
  {
   "cell_type": "markdown",
   "id": "62df57e6-3bb4-4054-9279-e0bb6a7a5ace",
   "metadata": {},
   "source": [
    "## Step 4: Calculate trasformation error of homography\n",
    "The homography matrix is calculate using least square, that mean the coordinate transform are not 100% accuracy.<br/>\n",
    "To evaluate how well the homography matrix we get, we can calculate the distance from the position we estimate to the position which actually located in.<br/>\n",
    "We call this distance \"error\" because it is disproportionate to the accuracy."
   ]
  },
  {
   "cell_type": "code",
   "execution_count": null,
   "id": "3c86be23-b8ac-4987-a8c9-bb267aeafe5a",
   "metadata": {},
   "outputs": [],
   "source": [
    "# define error function (L2 norm)\n",
    "def l2_norm(p1, p2):\n",
    "    return ((p1-p2)**2).sum()**0.5\n",
    "    \n",
    "p_3d_real = srcPoints.copy()\n",
    "p_2d_real = dstPoints.copy()\n",
    "p_3d_real = np.concatenate([p_3d_real, np.array([[1],[1],[1],[1]])], axis=1) # transform to 2D Homogeneous coordinates\n",
    "p_3d_real = p_3d_real.transpose() # transpose to column vector to do matrix multiplication\n",
    "\n",
    "p_2d_cal = H@p_3d_real # coordinates transform\n",
    "p_2d_cal = p_2d_cal/p_2d_cal[2] # normalize the vector in Homogeneous coordinates to projective plane\n",
    "p_2d_cal = p_2d_cal.transpose() # transpose back to row vector\n",
    "p_2d_cal = p_2d_cal[:,:2] # remove the third element of row vector\n",
    "\n",
    "total_error = 0\n",
    "\n",
    "# print out error of each point pair\n",
    "for real, cal in zip(p_2d_real, p_2d_cal):\n",
    "    error = l2_norm(real, cal)\n",
    "    total_error += error\n",
    "    print('Real: ', real, ' Estimate:', cal, '  error:', error)\n",
    "\n",
    "avg_error= total_error/4 # average the error with point pair number\n",
    "print('Average error:', avg_error)"
   ]
  },
  {
   "cell_type": "markdown",
   "id": "5832e1fb-3b09-42cd-8870-446907023f70",
   "metadata": {},
   "source": [
    "<span style=\"color:red\">***Primary objective (1/2, 8 points):***</span> now, add E and F point pairs, calculate the homography matrix from these 6 point pairs (A~F).<br/>\n",
    "**You shoud print out the matrix below.**"
   ]
  },
  {
   "cell_type": "code",
   "execution_count": null,
   "id": "1f6f2281-8ab0-42e2-bdef-184a56cdca1a",
   "metadata": {},
   "outputs": [],
   "source": []
  },
  {
   "cell_type": "markdown",
   "id": "040cb14d-ac28-4b68-b5b6-43630fccb963",
   "metadata": {},
   "source": [
    "<span style=\"color:red\">***Primary objective (2/2, 8 points):***</span> transform the cat_in_3d.png image to 2D space using homography matrix you calculated. you should show the image below.<br/>\n",
    "**You should show the image result below.**"
   ]
  },
  {
   "cell_type": "code",
   "execution_count": null,
   "id": "ffa43196-a6e6-492c-ac52-9dc6a8bd41b1",
   "metadata": {},
   "outputs": [],
   "source": []
  },
  {
   "cell_type": "markdown",
   "id": "36b04307-2f88-4299-8bb6-32a3c956ada7",
   "metadata": {},
   "source": [
    "<span style=\"color:orange\">***Bonus objective(1/1, 4 points):***</span> there is one point pair make the transformation not so well, remove it to minimize the average error, that will improve the performance.<br/>\n",
    "**You need to print out the average error after remove each point pair. Find out the the homography matrix that cause minimum error, then transform image and show the final result.**"
   ]
  },
  {
   "cell_type": "code",
   "execution_count": null,
   "id": "1bced923-e0c5-40c7-95ff-71dcea4c724c",
   "metadata": {},
   "outputs": [],
   "source": []
  }
 ],
 "metadata": {
  "kernelspec": {
   "display_name": "Tensorflow 2.7 (Python 3.8)",
   "language": "python",
   "name": "tf"
  },
  "language_info": {
   "codemirror_mode": {
    "name": "ipython",
    "version": 3
   },
   "file_extension": ".py",
   "mimetype": "text/x-python",
   "name": "python",
   "nbconvert_exporter": "python",
   "pygments_lexer": "ipython3",
   "version": "3.8.12"
  }
 },
 "nbformat": 4,
 "nbformat_minor": 5
}
