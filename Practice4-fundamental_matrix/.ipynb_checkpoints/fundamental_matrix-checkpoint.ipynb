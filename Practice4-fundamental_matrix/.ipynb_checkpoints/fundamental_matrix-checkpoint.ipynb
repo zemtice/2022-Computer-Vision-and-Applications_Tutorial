{
 "cells": [
  {
   "cell_type": "markdown",
   "metadata": {},
   "source": [
    "# Practice 4 - Fundamental Matrix\n",
    "* ## Cut-off date\n",
    "#### 2022/5/3  23:59\n",
    "\n",
    "* ## Score Rule\n",
    "Each practice has ***totally 20 points***. You have to complete objectives to get points.<br>\n",
    "<span style=\"color:red\">***Primary objective***</span> : basic objective you must complete. <br>\n",
    "<span style=\"color:orange\">***Bonus objective***</span> : difficulty objective for other bonus points.<br>\n",
    "#### <ins>This practice has 4 <span style=\"color:red\">***Primary objective***</span> and 1 <span style=\"color:orange\">***Bonus objective***</span> \n",
    "---"
   ]
  },
  {
   "cell_type": "markdown",
   "metadata": {},
   "source": [
    "In two view vision, fundamental matrix **F** transformate a point in one view to a epipolar line in another view.<br>\n",
    "For example, at the two view below, F transform the point at left view to the line at right view.<br>\n",
    "<img src=\"f.jpg\"/>\n"
   ]
  },
  {
   "cell_type": "markdown",
   "metadata": {},
   "source": [
    "In this practice, the fundamental matrix which transform left view point to right view epipolar line is given below:<br><br>\n",
    "$$\n",
    "F=\n",
    "\\begin{vmatrix}\n",
    " 1.4040868472652453e-7&  8.179088772122414e-6& -0.0031172345310651853\\\\\n",
    " 1.1046936023622926e-6&  4.723322231237937e-11&  -0.032528022287100104\\\\\n",
    " 9.093794712467127e-5&  0.029573289609450402&  1.0\\\\\n",
    "\\end{vmatrix}\n",
    "$$\n",
    "\n",
    "If we have a point **P** on left view, how to transform to the epipolar line **L** at right view is shown below:<br><br>\n",
    "$$\n",
    "P=\n",
    "\\begin{vmatrix}\n",
    " x_{P} & y_{P} & 1  \\\\\n",
    "\\end{vmatrix}\n",
    "^{T}\\\\\n",
    "L = F.P=\n",
    "\\begin{vmatrix}\n",
    " A & B & C  \\\\\n",
    "\\end{vmatrix}\n",
    "^{T}\\\\\n",
    "Final \\ epipolar \\ line \\ equation: \\ Ax+By+C=0\n",
    "$$\n"
   ]
  },
  {
   "cell_type": "markdown",
   "metadata": {},
   "source": [
    "<span style=\"color:red\">***Primary objective( 1/4, 4 points):***</span> create ***F*** using numpy array.</br>"
   ]
  },
  {
   "cell_type": "code",
   "execution_count": null,
   "metadata": {},
   "outputs": [],
   "source": [
    "import numpy as np\n",
    "F=None\n",
    "\n",
    "## Put your scripts below ##\n",
    "\n",
    "## Put your scripts above ##\n",
    "\n",
    "print(F)"
   ]
  },
  {
   "cell_type": "markdown",
   "metadata": {},
   "source": [
    "<span style=\"color:red\">***Primary objective( 2/4, 4 points):***</span> Load two view image **left.jpeg** and **right.jpeg**, and show the images using matplotlib.</br>\n",
    "*Tips: don't forget to convert color from BGR to RGB.*"
   ]
  },
  {
   "cell_type": "code",
   "execution_count": 5,
   "metadata": {},
   "outputs": [],
   "source": [
    "import cv2 as cv\n",
    "import matplotlib.pyplot as plt \n",
    "\n",
    "left = None\n",
    "right = None\n",
    "\n",
    "## Put your scripts below ##\n",
    "\n",
    "## Put your scripts above ##"
   ]
  },
  {
   "cell_type": "markdown",
   "metadata": {},
   "source": [
    "<span style=\"color:red\">***Primary objective( 3/4, 4 points):***</span> Draw point **(278, 318)** on left view image, and draw the corresponding epipolar line on the right view image. Show the result.</br>\n",
    "Tips: use **cv.circle** to draw point on left view, and use for loop in x direction to find which y value is satisfy the line equation on right view."
   ]
  },
  {
   "cell_type": "code",
   "execution_count": 4,
   "metadata": {},
   "outputs": [],
   "source": [
    "## Put your scripts below ##\n",
    "\n",
    "## Put your scripts above ##    "
   ]
  },
  {
   "cell_type": "markdown",
   "metadata": {},
   "source": [
    "<span style=\"color:red\">***Primary objective( 4/4, 4 points):***</span> Draw the points **(125, 325)**, **(489, 164)**, **(46, 589)**, **(510, 43)** on ***left view image***, and draw the corresponding epipolar lines on the ***right view image***. Show the result. Use different color to each point-line pairs.</br>"
   ]
  },
  {
   "cell_type": "code",
   "execution_count": null,
   "metadata": {},
   "outputs": [],
   "source": [
    "## Put your scripts below ##\n",
    "\n",
    "## Put your scripts above ##    "
   ]
  },
  {
   "cell_type": "markdown",
   "metadata": {},
   "source": [
    "<span style=\"color:orange\">***Bonus objective( 1/1, 4 points):***</span>Draw the points **(125, 325)**, **(489, 164)**, **(46, 589)**, **(510, 43)** on ***right view image***, and draw the corresponding epipolar lines on the ***left view image***. Show the result. Use different color to each point-line pairs.</br>\n",
    "Tips: use transpose of F to transform the point at right view to the epipolar line at left view."
   ]
  },
  {
   "cell_type": "code",
   "execution_count": null,
   "metadata": {},
   "outputs": [],
   "source": [
    "## Put your scripts below ##\n",
    "\n",
    "## Put your scripts above ##    "
   ]
  }
 ],
 "metadata": {
  "interpreter": {
   "hash": "1f9d5ae457dad902ed9200ea3a25079f4cc83aaeb81bbd1dca1954f2b4572120"
  },
  "kernelspec": {
   "display_name": "Python 3 (ipykernel)",
   "language": "python",
   "name": "python3"
  },
  "language_info": {
   "codemirror_mode": {
    "name": "ipython",
    "version": 3
   },
   "file_extension": ".py",
   "mimetype": "text/x-python",
   "name": "python",
   "nbconvert_exporter": "python",
   "pygments_lexer": "ipython3",
   "version": "3.9.7"
  }
 },
 "nbformat": 4,
 "nbformat_minor": 4
}
