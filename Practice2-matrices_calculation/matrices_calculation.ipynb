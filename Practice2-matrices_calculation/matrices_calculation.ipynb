{
 "cells": [
  {
   "cell_type": "markdown",
   "id": "9768b1b9-2e7f-4a6f-ae32-cf07065ef87b",
   "metadata": {
    "tags": []
   },
   "source": [
    "# Practice 2 - Matrices Calculation\n",
    "* ## Cut-off date\n",
    "#### 2022/3/23  00:00\n",
    "\n",
    "* ## Score Rule\n",
    "Each practice has ***totally 20 points***. You have to complete objectives to get points.<br>\n",
    "<span style=\"color:red\">***Primary objective***</span> : basic objective you must complete. <br>\n",
    "<span style=\"color:orange\">***Bonus objective***</span> : difficulty objective for other bonus points.<br>\n",
    "#### <ins>This practice has 5 <span style=\"color:red\">***Primary objective***</span> \n",
    "---\n",
    "\n",
    "\n",
    "* ## [Numpy Offical Online Document](https://numpy.org/doc/stable/reference/index.html)\n",
    "\n",
    "\n",
    "* ## Package Installation\n",
    "We need to install opencv in our computer. Since we have installed Anaconda yet, we just need to use pip in CMD. Like the scripts below:<br><br>\n",
    "```bash\n",
    "pip install numpy\n",
    "```\n",
    "<br>Or you can just run the block below to install. "
   ]
  },
  {
   "cell_type": "code",
   "execution_count": null,
   "id": "557cb0a4-916d-4e25-a4bf-0e0ed087f871",
   "metadata": {},
   "outputs": [],
   "source": [
    "!pip install numpy"
   ]
  },
  {
   "cell_type": "markdown",
   "id": "a6642946-b20d-47fa-bdfb-c7b1b9d6ab9a",
   "metadata": {},
   "source": [
    "---\n",
    "# 1. Import Library"
   ]
  },
  {
   "cell_type": "code",
   "execution_count": null,
   "id": "53d78e3f-8048-4a85-a2a9-c4b0208e153f",
   "metadata": {},
   "outputs": [],
   "source": [
    "import numpy as np  # powerful data processing library"
   ]
  },
  {
   "cell_type": "markdown",
   "id": "512e6351-421c-4612-bb10-c6b96c80db92",
   "metadata": {},
   "source": [
    "# 2. Create a matrix( or vector)\n",
    "There are many ways to crerate matrix or vector in numpy, the example below show some function you can use."
   ]
  },
  {
   "cell_type": "code",
   "execution_count": null,
   "id": "58c4fe5b-9036-4b56-9b02-39e50e61d5ae",
   "metadata": {},
   "outputs": [],
   "source": [
    "# Create a 3x3 matrix with python list\n",
    "m1_data = [[3,3,2],\n",
    "           [4,2,3],\n",
    "           [4,3,2]]\n",
    "m1 = np.array(m1_data, dtype=float) \n",
    "\n",
    "# Matrix shape\n",
    "shape = (2,4)\n",
    "\n",
    "# Create a matrix without initial elements\n",
    "m_empty = np.empty(shape)\n",
    "\n",
    "# Create a matrix with all elements are 0\n",
    "shape = (5,5)\n",
    "m_zero = np.zeros(shape, dtype=float) \n",
    "\n",
    "# Create a matrix with all elements are 1\n",
    "shape = (2,6)\n",
    "m_one = np.ones(shape, dtype=float)\n",
    "\n",
    "# Create a identity matrix with given dimention\n",
    "dim = (4)\n",
    "m_identity = np.identity(dim, dtype=float)\n",
    "\n",
    "print('\\nm1:\\n',m1)\n",
    "print('\\nm_empty:\\n',m_empty)\n",
    "print('\\nm_zero:\\n',m_zero)\n",
    "print('\\nm_one:\\n',m_one)\n",
    "print('\\nm_identity:\\n',m_identity)"
   ]
  },
  {
   "cell_type": "markdown",
   "id": "4bb949f6-5b3d-464c-a71d-f5bfaa6c0600",
   "metadata": {},
   "source": [
    "<span style=\"color:red\">***Primary objective(1/5, 4 points):***</span> create and print out matrices **A**, **B**, and **I** below.\n",
    "$$\n",
    "A =\\begin{bmatrix}\n",
    "4 & 3 & 2 \\\\\n",
    "6 & 7 & 2 \\\\\n",
    "2 & 4 & 3 \\\\\n",
    "\\end{bmatrix}\n",
    ",\\quad B =\\begin{bmatrix}\n",
    "2 & 1 & 5 \\\\\n",
    "3 & 1 & 2 \\\\\n",
    "4 & 7 & 7 \\\\\n",
    "\\end{bmatrix}\n",
    ",\\quad I=\n",
    "\\begin{bmatrix}\n",
    "1 & 0 & 0 \\\\\n",
    "0 & 1 & 0 \\\\\n",
    "0 & 0 & 1 \\\\\n",
    "\\end{bmatrix}\n",
    "$$"
   ]
  },
  {
   "cell_type": "code",
   "execution_count": null,
   "id": "0f036d86-3c19-4909-aff3-24ad360b0419",
   "metadata": {},
   "outputs": [],
   "source": [
    "## Put your scripts below ##\n",
    "\n",
    "## Put your scripts above ##"
   ]
  },
  {
   "cell_type": "markdown",
   "id": "34db9ed2-a093-4f33-80ed-c2f10ddac697",
   "metadata": {},
   "source": [
    "# 3. Some Matrices Processing"
   ]
  },
  {
   "cell_type": "markdown",
   "id": "c7ea32e0-33fd-4d35-ad71-4e039373e5a0",
   "metadata": {},
   "source": [
    "## 3-1. Transpose\n",
    "[API Reference](https://numpy.org/doc/stable/reference/generated/numpy.transpose.html)</br>\n",
    "Use **.transpose()** function or **.T** attribute to get the transpose of a matrix."
   ]
  },
  {
   "cell_type": "code",
   "execution_count": null,
   "id": "dfb2132a-8297-408d-8310-66b20a42fab6",
   "metadata": {},
   "outputs": [],
   "source": [
    "m = np.copy(m1) # copy data from m1\n",
    "m2 = m.transpose()\n",
    "m3 = m.T\n",
    "\n",
    "print('m =\\n', m)\n",
    "print('\\nm^T =\\n', m2)\n",
    "print('\\nm^T =\\n', m3)"
   ]
  },
  {
   "cell_type": "markdown",
   "id": "b0564299-8c5e-4aae-9bc8-454376df54ee",
   "metadata": {},
   "source": [
    "## 3-2. Concatenate\n",
    "[API Reference](https://numpy.org/doc/stable/reference/generated/numpy.concatenate.html)</br>\n",
    "You can use np.concatenate() function to compose matrices or vectors."
   ]
  },
  {
   "cell_type": "code",
   "execution_count": null,
   "id": "7de8cdbd-9515-4118-b22b-9c8d6b3aad84",
   "metadata": {},
   "outputs": [],
   "source": [
    "m = np.copy(m1) # copy data from m1\n",
    "zero_row = np.zeros((1,3))\n",
    "zero_col = np.zeros((3,1))\n",
    "\n",
    "# concatenate as a new row\n",
    "m2 = np.concatenate([m, zero_row], axis=0)\n",
    "\n",
    "# concatenate as a new colum\n",
    "m3 = np.concatenate([m, zero_col], axis=1)\n",
    "\n",
    "print('\\nm =\\n', m)\n",
    "print('\\nzero_row =\\n', zero_row)\n",
    "print('\\nzero_col =\\n', zero_col)\n",
    "print('\\nm2 =\\n', m2)\n",
    "print('\\nm3 =\\n', m3)"
   ]
  },
  {
   "cell_type": "markdown",
   "id": "4d0e00c6-5202-4453-9fa0-4b5752f56186",
   "metadata": {},
   "source": [
    "<span style=\"color:red\">***Primary objective( 2/5, 4 points):***</span> compose the matrix ***C*** with ***A*** and ***B*** below, and print out the result.</br>\n",
    "$$\n",
    "\\textbf{A} =\n",
    "\\begin{vmatrix}\n",
    " 0 & 1 & 2\\\\\n",
    " 3 & 4 & 5\\\\\n",
    "\\end{vmatrix}, \\ \n",
    "\\textbf{B} = \n",
    "\\begin{vmatrix}\n",
    " 0 & 1 \\\\\n",
    " 3 & 4 \\\\\n",
    "\\end{vmatrix}, \\\n",
    "\\textbf{C}=\n",
    "\\begin{vmatrix}\n",
    "\\ \\textbf{A}^{T}\\ \\\\\n",
    "\\ \\textbf{B}\\ \\ \\\\\n",
    "\\end{vmatrix}\n",
    "$$"
   ]
  },
  {
   "cell_type": "markdown",
   "id": "7f18bbf7-6520-4970-b4fd-c6d6fcd37e87",
   "metadata": {},
   "source": [
    "# 4. Matrices Multiply\n",
    "## 4-1. Multiply by Scalar\n",
    "You can simply use * symbol to implement the matrix Multiply by scalar like:"
   ]
  },
  {
   "cell_type": "code",
   "execution_count": null,
   "id": "063e3867-e200-48a9-90de-32234237a5b0",
   "metadata": {},
   "outputs": [],
   "source": [
    "m = np.copy(m1) # copy data from m1\n",
    "m2 = 2.0*m\n",
    "\n",
    "print('m =\\n',m)\n",
    "print('\\n2.0 x m =\\n', 2.0*m1)"
   ]
  },
  {
   "cell_type": "markdown",
   "id": "64bee404-cf03-437f-83f7-374791502b1a",
   "metadata": {},
   "source": [
    "## 4-2. Multiply element-wise\n",
    "Use * symbol to matrix or vector can also implement the element-wise matrix( or vector) multiplication:"
   ]
  },
  {
   "cell_type": "code",
   "execution_count": null,
   "id": "9676804a-a35e-4129-a587-213fd6841faf",
   "metadata": {},
   "outputs": [],
   "source": [
    "# vector\n",
    "v1 = np.array([0,1,2], dtype=float)\n",
    "v2 = np.array([3,4,5], dtype=float)\n",
    "v3 = v1*v2\n",
    "print('v1 = ', v1)\n",
    "print('v2 = ', v2)\n",
    "print('v1⊙v2=', v3)\n",
    "\n",
    "# matrix\n",
    "m = np.copy(m1) # copy data from m1\n",
    "n = np.array([[1,2,2],[3,2,1],[2,2,1]], dtype=float)\n",
    "mn = m*n\n",
    "print('\\nm =\\n', m)\n",
    "print('\\nn =\\n', n)\n",
    "print('\\nm⊙n =\\n', mn)"
   ]
  },
  {
   "cell_type": "markdown",
   "id": "77ac05ab-0880-4ccd-b091-af9702cbbe10",
   "metadata": {},
   "source": [
    "## 4-3. Dot product\n",
    "You can use .dot() function to implement the dot product of matrices or vectors. The alternative way is using \"@\" symbol:"
   ]
  },
  {
   "cell_type": "code",
   "execution_count": null,
   "id": "72c534d5-9e6c-4701-9563-932b2093a92d",
   "metadata": {},
   "outputs": [],
   "source": [
    "v1 = np.array([0,1,2], dtype=float)\n",
    "v2 = np.array([3,4,5], dtype=float)\n",
    "m = np.copy(m1) # copy data from m1\n",
    "n = np.array([[1,2,2],[3,2,1],[2,2,1]], dtype=float)\n",
    "\n",
    "v12 = v1.dot(v2)\n",
    "v1m = v1.dot(m)\n",
    "mn = m1@m2\n",
    "\n",
    "print('v1 = ',v1)\n",
    "print('v2 = ',v2)\n",
    "print('m =\\n',m)\n",
    "print('n =\\n',n)\n",
    "print('\\nv1 x v2 =', v12)\n",
    "print('\\nv1 x m =\\n', v1m)\n",
    "print('\\nm x n =\\n', mn)"
   ]
  },
  {
   "cell_type": "markdown",
   "id": "5528b4f3-67f7-4583-995d-4ea212cd1f44",
   "metadata": {},
   "source": [
    "<span style=\"color:red\">***Primary objective( 3/5, 4 points):***</span> calculate the matrix ***C*** below, and print out the result.</br>\n",
    "$$\n",
    "A =\\begin{bmatrix}\n",
    "4 & 3 & 2 \\\\\n",
    "6 & 7 & 2 \\\\\n",
    "2 & 4 & 3 \\\\\n",
    "\\end{bmatrix},\\ \n",
    "B =\\begin{bmatrix}\n",
    "2 & 1 & 5 \\\\\n",
    "3 & 1 & 2 \\\\\n",
    "4 & 7 & 7 \\\\\n",
    "\\end{bmatrix},\\ \n",
    "C =A\\times B\n",
    "$$"
   ]
  },
  {
   "cell_type": "markdown",
   "id": "b69caef7-6fd4-438b-8bb8-da185feaa258",
   "metadata": {},
   "source": [
    "## 5. Inverse\n",
    "A inverse of a square matrix **M** is written as **M<sup>-1</sup>**.\n",
    "The property of they is:\n",
    "$$\n",
    "MM^{-1}=M^{-1}M=I\n",
    "$$\n",
    "Where ***I*** is identity matrix"
   ]
  },
  {
   "cell_type": "code",
   "execution_count": null,
   "id": "11e78ff8-94d8-4967-a4c2-b135fb5306f6",
   "metadata": {},
   "outputs": [],
   "source": [
    "m = np.copy(m1) # copy data from m1\n",
    "print('\\nm =\\n', m)\n",
    "\n",
    "m_inv = np.linalg.inv(m)\n",
    "print(\"\\nm^-1 =\\n\", m_inv)"
   ]
  },
  {
   "cell_type": "markdown",
   "id": "c2751e6c-ec5b-48f7-b74c-1a8ce05220c2",
   "metadata": {},
   "source": [
    "But the example below cause some problem when we try to calculate **m<sup>-1</sup>**:"
   ]
  },
  {
   "cell_type": "code",
   "execution_count": null,
   "id": "02a1982e-71aa-4c63-b9fe-11c642e79563",
   "metadata": {},
   "outputs": [],
   "source": [
    "m = np.array([[1,3,5],[2,6,10],[5,2,4]])\n",
    "print('\\nm =\\n', m)\n",
    "\n",
    "m_inv = np.linalg.inv(m)\n",
    "print(\"\\nm^-1 =\\n\", m_inv)"
   ]
  },
  {
   "cell_type": "markdown",
   "id": "1cd33fb4-8b59-4173-bda6-cd5c6fab654b",
   "metadata": {},
   "source": [
    "Because the inverse of matrix **m1** is not exist, than the **m1** is ***Singular matrix***, otherwise is ***Nonsingular matix***.</br>\n",
    "We can use approximate solution call ***Pseudo inverse matrix***. The pseudo inverse matrix of a singular matrix **A** is written as: **A<sup>†</sup>** ( be careful, it's not transpose symbol)</br>\n",
    "For every matrix there must exisit a corresponding pseudo inverse matrix. We can use numpy to calculate pseudo inverse matrix:"
   ]
  },
  {
   "cell_type": "code",
   "execution_count": null,
   "id": "ce8d4eb9-72cd-427f-a560-561f2e7e34ac",
   "metadata": {},
   "outputs": [],
   "source": [
    "m = np.array([[1,3,5],[2,6,10],[5,2,4]])\n",
    "print('\\nm =\\n', m)\n",
    "\n",
    "m_inv= np.linalg.pinv(m)\n",
    "print(\"\\npseudo inverse matrix of m =\\n\", m_inv)"
   ]
  },
  {
   "cell_type": "markdown",
   "id": "f1df62c3-46a3-4131-b0ac-ceaf66674b03",
   "metadata": {},
   "source": [
    "<span style=\"color:red\">***Primary objective( 4/5, 4 points):***</span> Calculate the inverse or pseudo inverse matrix of ***A*** below and print out the result.</br>\n",
    "$$\n",
    "A =\\begin{bmatrix}\n",
    "4 & 1 & 2 \\\\\n",
    "3 & 2 & 1 \\\\\n",
    "6 & 4 & 2 \\\\\n",
    "\\end{bmatrix}\n",
    "$$"
   ]
  },
  {
   "cell_type": "code",
   "execution_count": null,
   "id": "e95da4ce-102d-47ef-b7d6-b04a8c5ba179",
   "metadata": {},
   "outputs": [],
   "source": [
    "## Put your scripts below ##\n",
    "\n",
    "## Put your scripts above ##"
   ]
  },
  {
   "cell_type": "markdown",
   "id": "2be25c32-85be-48c6-ac82-a2424673a1ea",
   "metadata": {},
   "source": [
    "## 6. SVD\n",
    "SVD is Singular Value Decomposition. This decomposition method will be used in many engineering areas and so does computer vision.</br>\n",
    "Specifically, the SVD of an ***mxn*** complex matrix ***M*** is a factorization of the form:\n",
    "$$\n",
    "{\\displaystyle \\mathbf {M} =\\mathbf {U\\Sigma V^{*}} }\n",
    "$$\n",
    "***U*** is an ***mxm*** complex unitary matrix.</br>\n",
    "***Σ*** is an ***mxn*** rectangular diagonal matrix with non-negative real numbers on the diagonal.</br>\n",
    "***V*** is an ***nxn*** complex unitary matrix.</br>\n",
    "If ***M*** is real, ***U*** and ***V*** can also be guaranteed to be real orthogonal matrices. In such contexts, the SVD is often denoted:\n",
    "$$\n",
    "{\\displaystyle \\mathbf {M} =\\mathbf {U\\Sigma V^{T}} }\n",
    "$$\n",
    "More detail and discussion of SVD is in the field of linear algebra, we will just using numpy to implement SVD here."
   ]
  },
  {
   "cell_type": "code",
   "execution_count": null,
   "id": "872d07cc-2785-432b-9903-c1cc6ab131d2",
   "metadata": {},
   "outputs": [],
   "source": [
    "m = np.array([[1,3,5],[2,6,10],[5,2,4]])\n",
    "u, s, vh = np.linalg.svd(m, full_matrices=True)\n",
    "print('m=\\n', m)\n",
    "print('\\nU=\\n', u)\n",
    "print('\\nΣ=\\n', s)\n",
    "print('\\nV^*=\\n', vh)"
   ]
  },
  {
   "cell_type": "markdown",
   "id": "77efacd6-93f6-4103-b758-0e499c5a4460",
   "metadata": {},
   "source": [
    "<span style=\"color:red\">***Primary objective( 5/5, 4 points):***</span> Decomposition matrix ***A*** using SVD below, you need to print out the ***U***, ***Σ*** and ***V<sup>*</sup>***.</br>"
   ]
  },
  {
   "cell_type": "code",
   "execution_count": null,
   "id": "db6dd714-bf10-401b-8c0b-99d10bde5ca2",
   "metadata": {},
   "outputs": [],
   "source": [
    "## Put your scripts below ##\n",
    "\n",
    "## Put your scripts above ##"
   ]
  }
 ],
 "metadata": {
  "kernelspec": {
   "display_name": "Tensorflow 2.7 (Python 3.8)",
   "language": "python",
   "name": "tf"
  },
  "language_info": {
   "codemirror_mode": {
    "name": "ipython",
    "version": 3
   },
   "file_extension": ".py",
   "mimetype": "text/x-python",
   "name": "python",
   "nbconvert_exporter": "python",
   "pygments_lexer": "ipython3",
   "version": "3.8.12"
  }
 },
 "nbformat": 4,
 "nbformat_minor": 5
}
